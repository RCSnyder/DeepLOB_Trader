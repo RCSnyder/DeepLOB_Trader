{
 "cells": [
  {
   "cell_type": "code",
   "execution_count": 1,
   "id": "767efa60",
   "metadata": {},
   "outputs": [],
   "source": [
    "import ccxt.async_support as ccxt\n",
    "import pandas as pd\n",
    "import asyncio\n",
    "import os\n",
    "import sys\n",
    "import numpy as np\n",
    "import datetime\n",
    "from pathlib import Path\n",
    "from pprint import pprint"
   ]
  },
  {
   "cell_type": "code",
   "execution_count": 2,
   "id": "4b429c64",
   "metadata": {},
   "outputs": [
    {
     "output_type": "execute_result",
     "data": {
      "text/plain": [
       "[WindowsPath('C:/Users/Cooper/Documents/GitHub/DeepLOB_Trader/src/data/limit_orderbook_data/binanceus_ADA-USDT_1621823814689_1621867014689_lob.pkl'),\n",
       " WindowsPath('C:/Users/Cooper/Documents/GitHub/DeepLOB_Trader/src/data/limit_orderbook_data/binanceus_DOGE-USDT_1620688812541_1620688872541_lob.pkl'),\n",
       " WindowsPath('C:/Users/Cooper/Documents/GitHub/DeepLOB_Trader/src/data/limit_orderbook_data/binance_ADA-USDT_1621823814689_1621867014689_lob.pkl'),\n",
       " WindowsPath('C:/Users/Cooper/Documents/GitHub/DeepLOB_Trader/src/data/limit_orderbook_data/kraken_ADA-USDT_1621823814689_1621867014689_lob.pkl'),\n",
       " WindowsPath('C:/Users/Cooper/Documents/GitHub/DeepLOB_Trader/src/data/limit_orderbook_data/kraken_DOGE-USDT_1620688812541_1620688872541_lob.pkl'),\n",
       " WindowsPath('C:/Users/Cooper/Documents/GitHub/DeepLOB_Trader/src/data/limit_orderbook_data/kraken_DOGE-USDT_1620689598600_1620732798600_lob.pkl'),\n",
       " WindowsPath('C:/Users/Cooper/Documents/GitHub/DeepLOB_Trader/src/data/limit_orderbook_data/kucoin_DOGE-USDT_1620688812541_1620688872541_lob.pkl')]"
      ]
     },
     "metadata": {},
     "execution_count": 2
    }
   ],
   "source": [
    "p = Path(os.path.abspath(os.getcwd())) / \"data\" / \"limit_orderbook_data\"\n",
    "p = p.resolve()\n",
    "orderbook_paths = [x for x in p.iterdir() if x.is_file()]\n",
    "orderbook_paths"
   ]
  },
  {
   "cell_type": "code",
   "execution_count": 189,
   "id": "f115e16b",
   "metadata": {},
   "outputs": [],
   "source": [
    "df = pd.read_pickle(orderbook_paths[3])"
   ]
  },
  {
   "cell_type": "code",
   "execution_count": 190,
   "id": "f4ae65fc",
   "metadata": {},
   "outputs": [
    {
     "data": {
      "text/html": [
       "<div>\n",
       "<style scoped>\n",
       "    .dataframe tbody tr th:only-of-type {\n",
       "        vertical-align: middle;\n",
       "    }\n",
       "\n",
       "    .dataframe tbody tr th {\n",
       "        vertical-align: top;\n",
       "    }\n",
       "\n",
       "    .dataframe thead th {\n",
       "        text-align: right;\n",
       "    }\n",
       "</style>\n",
       "<table border=\"1\" class=\"dataframe\">\n",
       "  <thead>\n",
       "    <tr style=\"text-align: right;\">\n",
       "      <th></th>\n",
       "      <th>date</th>\n",
       "      <th>exchange_id</th>\n",
       "      <th>symbol</th>\n",
       "      <th>asks</th>\n",
       "      <th>bids</th>\n",
       "    </tr>\n",
       "  </thead>\n",
       "  <tbody>\n",
       "    <tr>\n",
       "      <th>0</th>\n",
       "      <td>2021-05-24T02:37:00.792Z</td>\n",
       "      <td>kraken</td>\n",
       "      <td>ADA/USDT</td>\n",
       "      <td>[[1.333264, 981.791, 1621823819], [1.333265, 3...</td>\n",
       "      <td>[[1.332844, 9.846, 1621823416], [1.332482, 12....</td>\n",
       "    </tr>\n",
       "    <tr>\n",
       "      <th>1</th>\n",
       "      <td>2021-05-24T02:37:03.809Z</td>\n",
       "      <td>kraken</td>\n",
       "      <td>ADA/USDT</td>\n",
       "      <td>[[1.333264, 981.791, 1621823819], [1.333265, 3...</td>\n",
       "      <td>[[1.332844, 9.846, 1621823416], [1.332482, 12....</td>\n",
       "    </tr>\n",
       "    <tr>\n",
       "      <th>2</th>\n",
       "      <td>2021-05-24T02:37:06.805Z</td>\n",
       "      <td>kraken</td>\n",
       "      <td>ADA/USDT</td>\n",
       "      <td>[[1.332481, 982.352, 1621823823], [1.332482, 1...</td>\n",
       "      <td>[[1.329828, 5082.003, 1621823821], [1.329403, ...</td>\n",
       "    </tr>\n",
       "  </tbody>\n",
       "</table>\n",
       "</div>"
      ],
      "text/plain": [
       "                       date exchange_id    symbol  \\\n",
       "0  2021-05-24T02:37:00.792Z      kraken  ADA/USDT   \n",
       "1  2021-05-24T02:37:03.809Z      kraken  ADA/USDT   \n",
       "2  2021-05-24T02:37:06.805Z      kraken  ADA/USDT   \n",
       "\n",
       "                                                asks  \\\n",
       "0  [[1.333264, 981.791, 1621823819], [1.333265, 3...   \n",
       "1  [[1.333264, 981.791, 1621823819], [1.333265, 3...   \n",
       "2  [[1.332481, 982.352, 1621823823], [1.332482, 1...   \n",
       "\n",
       "                                                bids  \n",
       "0  [[1.332844, 9.846, 1621823416], [1.332482, 12....  \n",
       "1  [[1.332844, 9.846, 1621823416], [1.332482, 12....  \n",
       "2  [[1.329828, 5082.003, 1621823821], [1.329403, ...  "
      ]
     },
     "execution_count": 190,
     "metadata": {},
     "output_type": "execute_result"
    }
   ],
   "source": [
    "df.head(3)"
   ]
  },
  {
   "cell_type": "code",
   "execution_count": 191,
   "id": "35c2ec8e",
   "metadata": {},
   "outputs": [
    {
     "data": {
      "text/plain": [
       "40"
      ]
     },
     "execution_count": 191,
     "metadata": {},
     "output_type": "execute_result"
    }
   ],
   "source": [
    "len(df['asks'][0])"
   ]
  },
  {
   "cell_type": "code",
   "execution_count": 192,
   "id": "9f6a73b7",
   "metadata": {},
   "outputs": [
    {
     "data": {
      "text/plain": [
       "40"
      ]
     },
     "execution_count": 192,
     "metadata": {},
     "output_type": "execute_result"
    }
   ],
   "source": [
    "len(df['bids'][0])"
   ]
  },
  {
   "cell_type": "code",
   "execution_count": 193,
   "id": "b44aec3c",
   "metadata": {},
   "outputs": [
    {
     "data": {
      "text/plain": [
       "[[1.332844, 9.846, 1621823416],\n",
       " [1.332482, 12.673, 1621823414],\n",
       " [1.329816, 981.824, 1621823818]]"
      ]
     },
     "execution_count": 193,
     "metadata": {},
     "output_type": "execute_result"
    }
   ],
   "source": [
    "df['bids'][0][:3]"
   ]
  },
  {
   "cell_type": "code",
   "execution_count": 194,
   "id": "0743b712",
   "metadata": {},
   "outputs": [
    {
     "data": {
      "text/plain": [
       "[[1.333264, 981.791, 1621823819],\n",
       " [1.333265, 3750.772, 1621823818],\n",
       " [1.333419, 3750.772, 1621823818]]"
      ]
     },
     "execution_count": 194,
     "metadata": {},
     "output_type": "execute_result"
    }
   ],
   "source": [
    "df['asks'][0][:3]"
   ]
  },
  {
   "cell_type": "code",
   "execution_count": 195,
   "id": "c038f1ff",
   "metadata": {},
   "outputs": [],
   "source": [
    "def calculate_midprice(row):\n",
    "    return (row['bids'][0][0] + row['asks'][0][0]) / 2.0"
   ]
  },
  {
   "cell_type": "code",
   "execution_count": 196,
   "id": "10fc5ce1",
   "metadata": {},
   "outputs": [],
   "source": [
    "df['midprice'] = df.apply(calculate_midprice, axis=1)"
   ]
  },
  {
   "cell_type": "code",
   "execution_count": 197,
   "id": "cab31ed2",
   "metadata": {},
   "outputs": [],
   "source": [
    "#df['date'] = pd.to_datetime(df[\"date\"], format=\"%Y-%m-%d %H:%M:%S\")"
   ]
  },
  {
   "cell_type": "code",
   "execution_count": 198,
   "id": "f22ea1f6",
   "metadata": {},
   "outputs": [],
   "source": [
    "#df['time_delta'] = df.date.diff()\n",
    "#df = df.fillna(df['time_delta'])"
   ]
  },
  {
   "cell_type": "code",
   "execution_count": 199,
   "id": "3b106ffd",
   "metadata": {},
   "outputs": [],
   "source": [
    "df.drop(['date', 'exchange_id', 'symbol'], axis=1, inplace=True)"
   ]
  },
  {
   "cell_type": "code",
   "execution_count": 200,
   "id": "59ded473",
   "metadata": {},
   "outputs": [
    {
     "data": {
      "text/html": [
       "<div>\n",
       "<style scoped>\n",
       "    .dataframe tbody tr th:only-of-type {\n",
       "        vertical-align: middle;\n",
       "    }\n",
       "\n",
       "    .dataframe tbody tr th {\n",
       "        vertical-align: top;\n",
       "    }\n",
       "\n",
       "    .dataframe thead th {\n",
       "        text-align: right;\n",
       "    }\n",
       "</style>\n",
       "<table border=\"1\" class=\"dataframe\">\n",
       "  <thead>\n",
       "    <tr style=\"text-align: right;\">\n",
       "      <th></th>\n",
       "      <th>asks</th>\n",
       "      <th>bids</th>\n",
       "      <th>midprice</th>\n",
       "    </tr>\n",
       "  </thead>\n",
       "  <tbody>\n",
       "    <tr>\n",
       "      <th>0</th>\n",
       "      <td>[[1.333264, 981.791, 1621823819], [1.333265, 3...</td>\n",
       "      <td>[[1.332844, 9.846, 1621823416], [1.332482, 12....</td>\n",
       "      <td>1.333054</td>\n",
       "    </tr>\n",
       "    <tr>\n",
       "      <th>1</th>\n",
       "      <td>[[1.333264, 981.791, 1621823819], [1.333265, 3...</td>\n",
       "      <td>[[1.332844, 9.846, 1621823416], [1.332482, 12....</td>\n",
       "      <td>1.333054</td>\n",
       "    </tr>\n",
       "    <tr>\n",
       "      <th>2</th>\n",
       "      <td>[[1.332481, 982.352, 1621823823], [1.332482, 1...</td>\n",
       "      <td>[[1.329828, 5082.003, 1621823821], [1.329403, ...</td>\n",
       "      <td>1.331155</td>\n",
       "    </tr>\n",
       "  </tbody>\n",
       "</table>\n",
       "</div>"
      ],
      "text/plain": [
       "                                                asks  \\\n",
       "0  [[1.333264, 981.791, 1621823819], [1.333265, 3...   \n",
       "1  [[1.333264, 981.791, 1621823819], [1.333265, 3...   \n",
       "2  [[1.332481, 982.352, 1621823823], [1.332482, 1...   \n",
       "\n",
       "                                                bids  midprice  \n",
       "0  [[1.332844, 9.846, 1621823416], [1.332482, 12....  1.333054  \n",
       "1  [[1.332844, 9.846, 1621823416], [1.332482, 12....  1.333054  \n",
       "2  [[1.329828, 5082.003, 1621823821], [1.329403, ...  1.331155  "
      ]
     },
     "execution_count": 200,
     "metadata": {},
     "output_type": "execute_result"
    }
   ],
   "source": [
    "df.head(3)"
   ]
  },
  {
   "cell_type": "code",
   "execution_count": 201,
   "id": "febedc89",
   "metadata": {},
   "outputs": [
    {
     "data": {
      "text/plain": [
       "count    14461.000000\n",
       "mean         1.430330\n",
       "std          0.055083\n",
       "min          1.309484\n",
       "25%          1.370947\n",
       "50%          1.449089\n",
       "75%          1.473569\n",
       "max          1.547125\n",
       "Name: midprice, dtype: float64"
      ]
     },
     "execution_count": 201,
     "metadata": {},
     "output_type": "execute_result"
    }
   ],
   "source": [
    "df['midprice'].describe()"
   ]
  },
  {
   "cell_type": "code",
   "execution_count": 202,
   "id": "0f412412",
   "metadata": {},
   "outputs": [],
   "source": [
    "#df['time_delta'].describe()"
   ]
  },
  {
   "cell_type": "code",
   "execution_count": 203,
   "id": "87a92b05",
   "metadata": {},
   "outputs": [],
   "source": [
    "df['midprice_z'] = (df['midprice'] - df['midprice'].mean()) / df['midprice'].std(ddof=0)"
   ]
  },
  {
   "cell_type": "code",
   "execution_count": 204,
   "id": "ee41b9e9",
   "metadata": {},
   "outputs": [
    {
     "data": {
      "text/html": [
       "<div>\n",
       "<style scoped>\n",
       "    .dataframe tbody tr th:only-of-type {\n",
       "        vertical-align: middle;\n",
       "    }\n",
       "\n",
       "    .dataframe tbody tr th {\n",
       "        vertical-align: top;\n",
       "    }\n",
       "\n",
       "    .dataframe thead th {\n",
       "        text-align: right;\n",
       "    }\n",
       "</style>\n",
       "<table border=\"1\" class=\"dataframe\">\n",
       "  <thead>\n",
       "    <tr style=\"text-align: right;\">\n",
       "      <th></th>\n",
       "      <th>asks</th>\n",
       "      <th>bids</th>\n",
       "      <th>midprice</th>\n",
       "      <th>midprice_z</th>\n",
       "    </tr>\n",
       "  </thead>\n",
       "  <tbody>\n",
       "    <tr>\n",
       "      <th>0</th>\n",
       "      <td>[[1.333264, 981.791, 1621823819], [1.333265, 3...</td>\n",
       "      <td>[[1.332844, 9.846, 1621823416], [1.332482, 12....</td>\n",
       "      <td>1.333054</td>\n",
       "      <td>-1.766060</td>\n",
       "    </tr>\n",
       "    <tr>\n",
       "      <th>1</th>\n",
       "      <td>[[1.333264, 981.791, 1621823819], [1.333265, 3...</td>\n",
       "      <td>[[1.332844, 9.846, 1621823416], [1.332482, 12....</td>\n",
       "      <td>1.333054</td>\n",
       "      <td>-1.766060</td>\n",
       "    </tr>\n",
       "    <tr>\n",
       "      <th>2</th>\n",
       "      <td>[[1.332481, 982.352, 1621823823], [1.332482, 1...</td>\n",
       "      <td>[[1.329828, 5082.003, 1621823821], [1.329403, ...</td>\n",
       "      <td>1.331155</td>\n",
       "      <td>-1.800546</td>\n",
       "    </tr>\n",
       "    <tr>\n",
       "      <th>3</th>\n",
       "      <td>[[1.332481, 982.352, 1621823823], [1.332482, 1...</td>\n",
       "      <td>[[1.329828, 5082.003, 1621823821], [1.329403, ...</td>\n",
       "      <td>1.331155</td>\n",
       "      <td>-1.800546</td>\n",
       "    </tr>\n",
       "    <tr>\n",
       "      <th>4</th>\n",
       "      <td>[[1.33362, 981.057, 1621823828], [1.333746, 37...</td>\n",
       "      <td>[[1.332251, 1296.0, 1621823828], [1.331336, 95...</td>\n",
       "      <td>1.332936</td>\n",
       "      <td>-1.768212</td>\n",
       "    </tr>\n",
       "    <tr>\n",
       "      <th>...</th>\n",
       "      <td>...</td>\n",
       "      <td>...</td>\n",
       "      <td>...</td>\n",
       "      <td>...</td>\n",
       "    </tr>\n",
       "    <tr>\n",
       "      <th>14456</th>\n",
       "      <td>[[1.47252, 2332.575, 1621867339], [1.473078, 3...</td>\n",
       "      <td>[[1.469109, 4185.355, 1621867338], [1.46852, 5...</td>\n",
       "      <td>1.470814</td>\n",
       "      <td>0.734997</td>\n",
       "    </tr>\n",
       "    <tr>\n",
       "      <th>14457</th>\n",
       "      <td>[[1.47252, 2332.575, 1621867339], [1.474084, 3...</td>\n",
       "      <td>[[1.470009, 4226.609, 1621867340], [1.469996, ...</td>\n",
       "      <td>1.471264</td>\n",
       "      <td>0.743167</td>\n",
       "    </tr>\n",
       "    <tr>\n",
       "      <th>14458</th>\n",
       "      <td>[[1.475776, 5000.0, 1621867347], [1.475788, 32...</td>\n",
       "      <td>[[1.472183, 4232.991, 1621867343], [1.472182, ...</td>\n",
       "      <td>1.473979</td>\n",
       "      <td>0.792458</td>\n",
       "    </tr>\n",
       "    <tr>\n",
       "      <th>14459</th>\n",
       "      <td>[[1.476814, 6.825, 1621867349], [1.476815, 44....</td>\n",
       "      <td>[[1.473421, 4102.871, 1621867350], [1.473418, ...</td>\n",
       "      <td>1.475118</td>\n",
       "      <td>0.813118</td>\n",
       "    </tr>\n",
       "    <tr>\n",
       "      <th>14460</th>\n",
       "      <td>[[1.477661, 131.359, 1621867358], [1.477662, 6...</td>\n",
       "      <td>[[1.474983, 4148.975, 1621867358], [1.474982, ...</td>\n",
       "      <td>1.476322</td>\n",
       "      <td>0.834986</td>\n",
       "    </tr>\n",
       "  </tbody>\n",
       "</table>\n",
       "<p>14461 rows × 4 columns</p>\n",
       "</div>"
      ],
      "text/plain": [
       "                                                    asks  \\\n",
       "0      [[1.333264, 981.791, 1621823819], [1.333265, 3...   \n",
       "1      [[1.333264, 981.791, 1621823819], [1.333265, 3...   \n",
       "2      [[1.332481, 982.352, 1621823823], [1.332482, 1...   \n",
       "3      [[1.332481, 982.352, 1621823823], [1.332482, 1...   \n",
       "4      [[1.33362, 981.057, 1621823828], [1.333746, 37...   \n",
       "...                                                  ...   \n",
       "14456  [[1.47252, 2332.575, 1621867339], [1.473078, 3...   \n",
       "14457  [[1.47252, 2332.575, 1621867339], [1.474084, 3...   \n",
       "14458  [[1.475776, 5000.0, 1621867347], [1.475788, 32...   \n",
       "14459  [[1.476814, 6.825, 1621867349], [1.476815, 44....   \n",
       "14460  [[1.477661, 131.359, 1621867358], [1.477662, 6...   \n",
       "\n",
       "                                                    bids  midprice  midprice_z  \n",
       "0      [[1.332844, 9.846, 1621823416], [1.332482, 12....  1.333054   -1.766060  \n",
       "1      [[1.332844, 9.846, 1621823416], [1.332482, 12....  1.333054   -1.766060  \n",
       "2      [[1.329828, 5082.003, 1621823821], [1.329403, ...  1.331155   -1.800546  \n",
       "3      [[1.329828, 5082.003, 1621823821], [1.329403, ...  1.331155   -1.800546  \n",
       "4      [[1.332251, 1296.0, 1621823828], [1.331336, 95...  1.332936   -1.768212  \n",
       "...                                                  ...       ...         ...  \n",
       "14456  [[1.469109, 4185.355, 1621867338], [1.46852, 5...  1.470814    0.734997  \n",
       "14457  [[1.470009, 4226.609, 1621867340], [1.469996, ...  1.471264    0.743167  \n",
       "14458  [[1.472183, 4232.991, 1621867343], [1.472182, ...  1.473979    0.792458  \n",
       "14459  [[1.473421, 4102.871, 1621867350], [1.473418, ...  1.475118    0.813118  \n",
       "14460  [[1.474983, 4148.975, 1621867358], [1.474982, ...  1.476322    0.834986  \n",
       "\n",
       "[14461 rows x 4 columns]"
      ]
     },
     "execution_count": 204,
     "metadata": {},
     "output_type": "execute_result"
    }
   ],
   "source": [
    "df"
   ]
  },
  {
   "cell_type": "code",
   "execution_count": 205,
   "id": "3cd57fe2",
   "metadata": {},
   "outputs": [
    {
     "data": {
      "text/plain": [
       "count    1.446100e+04\n",
       "mean    -5.031435e-16\n",
       "std      1.000035e+00\n",
       "min     -2.193976e+00\n",
       "25%     -1.078109e+00\n",
       "50%      3.405772e-01\n",
       "75%      7.850143e-01\n",
       "max      2.120423e+00\n",
       "Name: midprice_z, dtype: float64"
      ]
     },
     "execution_count": 205,
     "metadata": {},
     "output_type": "execute_result"
    }
   ],
   "source": [
    "df['midprice_z'].describe()"
   ]
  },
  {
   "cell_type": "code",
   "execution_count": 206,
   "id": "c6c35f26",
   "metadata": {},
   "outputs": [
    {
     "data": {
      "text/html": [
       "<div>\n",
       "<style scoped>\n",
       "    .dataframe tbody tr th:only-of-type {\n",
       "        vertical-align: middle;\n",
       "    }\n",
       "\n",
       "    .dataframe tbody tr th {\n",
       "        vertical-align: top;\n",
       "    }\n",
       "\n",
       "    .dataframe thead th {\n",
       "        text-align: right;\n",
       "    }\n",
       "</style>\n",
       "<table border=\"1\" class=\"dataframe\">\n",
       "  <thead>\n",
       "    <tr style=\"text-align: right;\">\n",
       "      <th></th>\n",
       "      <th>asks</th>\n",
       "      <th>bids</th>\n",
       "      <th>midprice</th>\n",
       "      <th>midprice_z</th>\n",
       "    </tr>\n",
       "  </thead>\n",
       "  <tbody>\n",
       "    <tr>\n",
       "      <th>0</th>\n",
       "      <td>[[1.333264, 981.791, 1621823819], [1.333265, 3...</td>\n",
       "      <td>[[1.332844, 9.846, 1621823416], [1.332482, 12....</td>\n",
       "      <td>1.333054</td>\n",
       "      <td>-1.766060</td>\n",
       "    </tr>\n",
       "    <tr>\n",
       "      <th>1</th>\n",
       "      <td>[[1.333264, 981.791, 1621823819], [1.333265, 3...</td>\n",
       "      <td>[[1.332844, 9.846, 1621823416], [1.332482, 12....</td>\n",
       "      <td>1.333054</td>\n",
       "      <td>-1.766060</td>\n",
       "    </tr>\n",
       "    <tr>\n",
       "      <th>2</th>\n",
       "      <td>[[1.332481, 982.352, 1621823823], [1.332482, 1...</td>\n",
       "      <td>[[1.329828, 5082.003, 1621823821], [1.329403, ...</td>\n",
       "      <td>1.331155</td>\n",
       "      <td>-1.800546</td>\n",
       "    </tr>\n",
       "    <tr>\n",
       "      <th>3</th>\n",
       "      <td>[[1.332481, 982.352, 1621823823], [1.332482, 1...</td>\n",
       "      <td>[[1.329828, 5082.003, 1621823821], [1.329403, ...</td>\n",
       "      <td>1.331155</td>\n",
       "      <td>-1.800546</td>\n",
       "    </tr>\n",
       "    <tr>\n",
       "      <th>4</th>\n",
       "      <td>[[1.33362, 981.057, 1621823828], [1.333746, 37...</td>\n",
       "      <td>[[1.332251, 1296.0, 1621823828], [1.331336, 95...</td>\n",
       "      <td>1.332936</td>\n",
       "      <td>-1.768212</td>\n",
       "    </tr>\n",
       "    <tr>\n",
       "      <th>...</th>\n",
       "      <td>...</td>\n",
       "      <td>...</td>\n",
       "      <td>...</td>\n",
       "      <td>...</td>\n",
       "    </tr>\n",
       "    <tr>\n",
       "      <th>14456</th>\n",
       "      <td>[[1.47252, 2332.575, 1621867339], [1.473078, 3...</td>\n",
       "      <td>[[1.469109, 4185.355, 1621867338], [1.46852, 5...</td>\n",
       "      <td>1.470814</td>\n",
       "      <td>0.734997</td>\n",
       "    </tr>\n",
       "    <tr>\n",
       "      <th>14457</th>\n",
       "      <td>[[1.47252, 2332.575, 1621867339], [1.474084, 3...</td>\n",
       "      <td>[[1.470009, 4226.609, 1621867340], [1.469996, ...</td>\n",
       "      <td>1.471264</td>\n",
       "      <td>0.743167</td>\n",
       "    </tr>\n",
       "    <tr>\n",
       "      <th>14458</th>\n",
       "      <td>[[1.475776, 5000.0, 1621867347], [1.475788, 32...</td>\n",
       "      <td>[[1.472183, 4232.991, 1621867343], [1.472182, ...</td>\n",
       "      <td>1.473979</td>\n",
       "      <td>0.792458</td>\n",
       "    </tr>\n",
       "    <tr>\n",
       "      <th>14459</th>\n",
       "      <td>[[1.476814, 6.825, 1621867349], [1.476815, 44....</td>\n",
       "      <td>[[1.473421, 4102.871, 1621867350], [1.473418, ...</td>\n",
       "      <td>1.475118</td>\n",
       "      <td>0.813118</td>\n",
       "    </tr>\n",
       "    <tr>\n",
       "      <th>14460</th>\n",
       "      <td>[[1.477661, 131.359, 1621867358], [1.477662, 6...</td>\n",
       "      <td>[[1.474983, 4148.975, 1621867358], [1.474982, ...</td>\n",
       "      <td>1.476322</td>\n",
       "      <td>0.834986</td>\n",
       "    </tr>\n",
       "  </tbody>\n",
       "</table>\n",
       "<p>14461 rows × 4 columns</p>\n",
       "</div>"
      ],
      "text/plain": [
       "                                                    asks  \\\n",
       "0      [[1.333264, 981.791, 1621823819], [1.333265, 3...   \n",
       "1      [[1.333264, 981.791, 1621823819], [1.333265, 3...   \n",
       "2      [[1.332481, 982.352, 1621823823], [1.332482, 1...   \n",
       "3      [[1.332481, 982.352, 1621823823], [1.332482, 1...   \n",
       "4      [[1.33362, 981.057, 1621823828], [1.333746, 37...   \n",
       "...                                                  ...   \n",
       "14456  [[1.47252, 2332.575, 1621867339], [1.473078, 3...   \n",
       "14457  [[1.47252, 2332.575, 1621867339], [1.474084, 3...   \n",
       "14458  [[1.475776, 5000.0, 1621867347], [1.475788, 32...   \n",
       "14459  [[1.476814, 6.825, 1621867349], [1.476815, 44....   \n",
       "14460  [[1.477661, 131.359, 1621867358], [1.477662, 6...   \n",
       "\n",
       "                                                    bids  midprice  midprice_z  \n",
       "0      [[1.332844, 9.846, 1621823416], [1.332482, 12....  1.333054   -1.766060  \n",
       "1      [[1.332844, 9.846, 1621823416], [1.332482, 12....  1.333054   -1.766060  \n",
       "2      [[1.329828, 5082.003, 1621823821], [1.329403, ...  1.331155   -1.800546  \n",
       "3      [[1.329828, 5082.003, 1621823821], [1.329403, ...  1.331155   -1.800546  \n",
       "4      [[1.332251, 1296.0, 1621823828], [1.331336, 95...  1.332936   -1.768212  \n",
       "...                                                  ...       ...         ...  \n",
       "14456  [[1.469109, 4185.355, 1621867338], [1.46852, 5...  1.470814    0.734997  \n",
       "14457  [[1.470009, 4226.609, 1621867340], [1.469996, ...  1.471264    0.743167  \n",
       "14458  [[1.472183, 4232.991, 1621867343], [1.472182, ...  1.473979    0.792458  \n",
       "14459  [[1.473421, 4102.871, 1621867350], [1.473418, ...  1.475118    0.813118  \n",
       "14460  [[1.474983, 4148.975, 1621867358], [1.474982, ...  1.476322    0.834986  \n",
       "\n",
       "[14461 rows x 4 columns]"
      ]
     },
     "execution_count": 206,
     "metadata": {},
     "output_type": "execute_result"
    }
   ],
   "source": [
    "df"
   ]
  },
  {
   "cell_type": "code",
   "execution_count": 277,
   "id": "82182264",
   "metadata": {},
   "outputs": [
    {
     "data": {
      "text/plain": [
       "[1.332482, 12.673, 1621823414]"
      ]
     },
     "execution_count": 277,
     "metadata": {},
     "output_type": "execute_result"
    }
   ],
   "source": [
    "df['bids']"
   ]
  },
  {
   "cell_type": "code",
   "execution_count": 227,
   "id": "996af993",
   "metadata": {},
   "outputs": [],
   "source": [
    "np_bids = np.stack(df['bids'])\n",
    "np_asks = np.stack(df['asks'])"
   ]
  },
  {
   "cell_type": "code",
   "execution_count": 228,
   "id": "ee4f6196",
   "metadata": {},
   "outputs": [
    {
     "data": {
      "text/plain": [
       "(14461, 40, 3)"
      ]
     },
     "execution_count": 228,
     "metadata": {},
     "output_type": "execute_result"
    }
   ],
   "source": [
    "np_bids.shape"
   ]
  },
  {
   "cell_type": "code",
   "execution_count": 250,
   "id": "db15b184",
   "metadata": {},
   "outputs": [],
   "source": [
    "np_bids_no_time = np_bids[:,:,0:2]\n",
    "np_asks_no_time = np_asks[:,:,0:2]"
   ]
  },
  {
   "cell_type": "code",
   "execution_count": 251,
   "id": "b726a4a7",
   "metadata": {},
   "outputs": [
    {
     "data": {
      "text/plain": [
       "(14461, 40, 2)"
      ]
     },
     "execution_count": 251,
     "metadata": {},
     "output_type": "execute_result"
    }
   ],
   "source": [
    "np_bids_no_time.shape"
   ]
  },
  {
   "cell_type": "code",
   "execution_count": 264,
   "id": "76dad1df",
   "metadata": {},
   "outputs": [
    {
     "data": {
      "text/plain": [
       "array([[[1.332844e+00, 9.846000e+00],\n",
       "        [1.332482e+00, 1.267300e+01],\n",
       "        [1.329816e+00, 9.818240e+02],\n",
       "        ...,\n",
       "        [1.300909e+00, 1.512130e+02],\n",
       "        [1.298045e+00, 1.078860e+02],\n",
       "        [1.294713e+00, 1.292100e+01]],\n",
       "\n",
       "       [[1.332844e+00, 9.846000e+00],\n",
       "        [1.332482e+00, 1.267300e+01],\n",
       "        [1.329816e+00, 9.818240e+02],\n",
       "        ...,\n",
       "        [1.300909e+00, 1.512130e+02],\n",
       "        [1.298045e+00, 1.078860e+02],\n",
       "        [1.294713e+00, 1.292100e+01]],\n",
       "\n",
       "       [[1.329828e+00, 5.082003e+03],\n",
       "        [1.329403e+00, 7.769910e+02],\n",
       "        [1.329250e+00, 9.824110e+02],\n",
       "        ...,\n",
       "        [1.294637e+00, 1.936400e+04],\n",
       "        [1.294339e+00, 1.013900e+01],\n",
       "        [1.292565e+00, 9.693000e+03]],\n",
       "\n",
       "       ...,\n",
       "\n",
       "       [[1.472183e+00, 4.232991e+03],\n",
       "        [1.472182e+00, 3.387482e+03],\n",
       "        [1.471594e+00, 1.006567e+03],\n",
       "        ...,\n",
       "        [1.437158e+00, 1.341296e+03],\n",
       "        [1.436204e+00, 1.292100e+01],\n",
       "        [1.435946e+00, 7.323000e+00]],\n",
       "\n",
       "       [[1.473421e+00, 4.102871e+03],\n",
       "        [1.473418e+00, 8.839600e+02],\n",
       "        [1.473388e+00, 1.028854e+03],\n",
       "        ...,\n",
       "        [1.448274e+00, 1.711810e+02],\n",
       "        [1.444769e+00, 4.835290e+02],\n",
       "        [1.444767e+00, 1.361570e+02]],\n",
       "\n",
       "       [[1.474983e+00, 4.148975e+03],\n",
       "        [1.474982e+00, 5.000000e+03],\n",
       "        [1.474970e+00, 3.381161e+03],\n",
       "        ...,\n",
       "        [1.450570e+00, 1.355017e+04],\n",
       "        [1.449119e+00, 3.901600e+04],\n",
       "        [1.448274e+00, 1.711810e+02]]])"
      ]
     },
     "execution_count": 264,
     "metadata": {},
     "output_type": "execute_result"
    }
   ],
   "source": [
    "np_bids_no_time"
   ]
  },
  {
   "cell_type": "code",
   "execution_count": 292,
   "id": "83a29918",
   "metadata": {},
   "outputs": [],
   "source": [
    "np_bids_asks_stacked = np.stack((np_bids_no_time, np_asks_no_time), axis=1)"
   ]
  },
  {
   "cell_type": "code",
   "execution_count": 293,
   "id": "5bbeb8b1",
   "metadata": {},
   "outputs": [
    {
     "data": {
      "text/plain": [
       "(14461, 2, 40, 2)"
      ]
     },
     "execution_count": 293,
     "metadata": {},
     "output_type": "execute_result"
    }
   ],
   "source": [
    "# [rows, bids or asks, 40 levels, price-amount]\n",
    "np_bids_asks_stacked.shape"
   ]
  },
  {
   "cell_type": "code",
   "execution_count": 298,
   "id": "22c7648a",
   "metadata": {},
   "outputs": [
    {
     "data": {
      "text/plain": [
       "array([[1.3332640e+00, 9.8179100e+02],\n",
       "       [1.3332650e+00, 3.7507720e+03],\n",
       "       [1.3334190e+00, 3.7507720e+03],\n",
       "       [1.3337570e+00, 3.6004030e+03],\n",
       "       [1.3337860e+00, 4.8747330e+03],\n",
       "       [1.3339180e+00, 1.1104510e+03],\n",
       "       [1.3340630e+00, 2.5131040e+03],\n",
       "       [1.3343380e+00, 1.1320230e+03],\n",
       "       [1.3345940e+00, 9.0890000e+02],\n",
       "       [1.3346260e+00, 7.7669600e+02],\n",
       "       [1.3348070e+00, 1.5534640e+03],\n",
       "       [1.3373600e+00, 9.6000000e+00],\n",
       "       [1.3373610e+00, 7.9520000e+02],\n",
       "       [1.3394250e+00, 3.7766000e+01],\n",
       "       [1.3530610e+00, 5.5214280e+03],\n",
       "       [1.3530620e+00, 3.9740000e+03],\n",
       "       [1.3530630e+00, 1.1509000e+01],\n",
       "       [1.3544950e+00, 7.3921300e+03],\n",
       "       [1.3544990e+00, 9.5460000e+03],\n",
       "       [1.3545000e+00, 1.2046174e+04],\n",
       "       [1.3600000e+00, 7.3685000e+02],\n",
       "       [1.3602230e+00, 1.0441400e+02],\n",
       "       [1.3630380e+00, 1.4385580e+03],\n",
       "       [1.3630940e+00, 5.3297000e+01],\n",
       "       [1.3664050e+00, 4.0282000e+01],\n",
       "       [1.3675500e+00, 4.6115000e+02],\n",
       "       [1.3675510e+00, 1.1387000e+01],\n",
       "       [1.3676110e+00, 1.2529000e+01],\n",
       "       [1.3751340e+00, 1.0328200e+02],\n",
       "       [1.3753180e+00, 1.4601800e+02],\n",
       "       [1.3769040e+00, 9.7030000e+00],\n",
       "       [1.3781760e+00, 1.2921000e+01],\n",
       "       [1.3784440e+00, 3.8832000e+04],\n",
       "       [1.3821950e+00, 1.1266000e+01],\n",
       "       [1.3822560e+00, 1.4185570e+03],\n",
       "       [1.3823460e+00, 3.8460000e+02],\n",
       "       [1.3833190e+00, 1.2387000e+01],\n",
       "       [1.3840260e+00, 1.9100000e+04],\n",
       "       [1.3868160e+00, 7.9010000e+00],\n",
       "       [1.3902070e+00, 1.0216200e+02]])"
      ]
     },
     "execution_count": 298,
     "metadata": {},
     "output_type": "execute_result"
    }
   ],
   "source": [
    "# asks\n",
    "np_bids_asks_stacked[0, 1, :]"
   ]
  },
  {
   "cell_type": "code",
   "execution_count": 300,
   "id": "3f5f2b16",
   "metadata": {},
   "outputs": [
    {
     "data": {
      "text/plain": [
       "array([[1.3328440e+00, 9.8460000e+00],\n",
       "       [1.3324820e+00, 1.2673000e+01],\n",
       "       [1.3298160e+00, 9.8182400e+02],\n",
       "       [1.3298130e+00, 3.7477740e+03],\n",
       "       [1.3298010e+00, 7.7714600e+02],\n",
       "       [1.3296480e+00, 5.4890800e+02],\n",
       "       [1.3296470e+00, 1.5542910e+03],\n",
       "       [1.3296020e+00, 1.7010000e+03],\n",
       "       [1.3295810e+00, 1.1193760e+03],\n",
       "       [1.3290950e+00, 3.7494770e+03],\n",
       "       [1.3289530e+00, 1.1130550e+03],\n",
       "       [1.3285560e+00, 9.2080000e+02],\n",
       "       [1.3282070e+00, 2.7967500e+03],\n",
       "       [1.3274990e+00, 1.9572870e+03],\n",
       "       [1.3273570e+00, 9.8800000e+02],\n",
       "       [1.3266590e+00, 2.9860000e+03],\n",
       "       [1.3266580e+00, 1.0555900e+02],\n",
       "       [1.3265350e+00, 9.5460000e+03],\n",
       "       [1.3240440e+00, 3.7764000e+01],\n",
       "       [1.3238500e+00, 1.4859300e+02],\n",
       "       [1.3226840e+00, 7.4696940e+03],\n",
       "       [1.3213610e+00, 1.4588400e+03],\n",
       "       [1.3203320e+00, 1.1632000e+01],\n",
       "       [1.3173520e+00, 1.2818000e+01],\n",
       "       [1.3170130e+00, 7.4467120e+03],\n",
       "       [1.3156960e+00, 6.9583000e+04],\n",
       "       [1.3140390e+00, 1.2921000e+01],\n",
       "       [1.3134510e+00, 9.9910000e+00],\n",
       "       [1.3122740e+00, 1.0671600e+02],\n",
       "       [1.3108680e+00, 3.8988698e+04],\n",
       "       [1.3108670e+00, 6.6861900e+02],\n",
       "       [1.3100000e+00, 1.1000000e+03],\n",
       "       [1.3063440e+00, 1.1757000e+01],\n",
       "       [1.3057150e+00, 3.9016000e+04],\n",
       "       [1.3029890e+00, 1.4794100e+03],\n",
       "       [1.3023940e+00, 1.2966000e+01],\n",
       "       [1.3021160e+00, 4.1211000e+01],\n",
       "       [1.3009090e+00, 1.5121300e+02],\n",
       "       [1.2980450e+00, 1.0788600e+02],\n",
       "       [1.2947130e+00, 1.2921000e+01]])"
      ]
     },
     "execution_count": 300,
     "metadata": {},
     "output_type": "execute_result"
    }
   ],
   "source": [
    "# bids\n",
    "np_bids_asks_stacked[0, 0, :]"
   ]
  },
  {
   "cell_type": "code",
   "execution_count": 325,
   "id": "e8d107d8",
   "metadata": {},
   "outputs": [],
   "source": [
    "def convert_bids_asks_to_zscores(df):\n",
    "    \n",
    "    bid_price_zscore = df[:, 0, :, 0]\n",
    "    print(len(bid_price_zscore[0]))\n",
    "    \n",
    "    return bid_price_zscore"
   ]
  },
  {
   "cell_type": "code",
   "execution_count": 326,
   "id": "7edfa953",
   "metadata": {},
   "outputs": [
    {
     "name": "stdout",
     "output_type": "stream",
     "text": [
      "40\n"
     ]
    },
    {
     "data": {
      "text/plain": [
       "array([[1.332844, 1.332482, 1.329816, ..., 1.300909, 1.298045, 1.294713],\n",
       "       [1.332844, 1.332482, 1.329816, ..., 1.300909, 1.298045, 1.294713],\n",
       "       [1.329828, 1.329403, 1.32925 , ..., 1.294637, 1.294339, 1.292565],\n",
       "       ...,\n",
       "       [1.472183, 1.472182, 1.471594, ..., 1.437158, 1.436204, 1.435946],\n",
       "       [1.473421, 1.473418, 1.473388, ..., 1.448274, 1.444769, 1.444767],\n",
       "       [1.474983, 1.474982, 1.47497 , ..., 1.45057 , 1.449119, 1.448274]])"
      ]
     },
     "execution_count": 326,
     "metadata": {},
     "output_type": "execute_result"
    }
   ],
   "source": [
    "convert_bids_asks_to_zscores(np_bids_asks_stacked)"
   ]
  },
  {
   "cell_type": "code",
   "execution_count": null,
   "id": "4ab2d988",
   "metadata": {},
   "outputs": [],
   "source": []
  },
  {
   "cell_type": "code",
   "execution_count": null,
   "id": "8673162b",
   "metadata": {},
   "outputs": [],
   "source": []
  },
  {
   "cell_type": "code",
   "execution_count": null,
   "id": "ebe2e8af",
   "metadata": {},
   "outputs": [],
   "source": []
  },
  {
   "cell_type": "code",
   "execution_count": null,
   "id": "6855501c",
   "metadata": {},
   "outputs": [],
   "source": []
  },
  {
   "cell_type": "code",
   "execution_count": null,
   "id": "3be48dea",
   "metadata": {},
   "outputs": [],
   "source": []
  },
  {
   "cell_type": "code",
   "execution_count": 254,
   "id": "2cc0c9ce",
   "metadata": {},
   "outputs": [],
   "source": [
    "np_bid_price_zscore = ( np_bids_no_time[:,:,0] - np_bids_no_time[:,:,0].mean() ) / np_bids_no_time[:,:,0].std()"
   ]
  },
  {
   "cell_type": "code",
   "execution_count": 322,
   "id": "16dd9b47",
   "metadata": {},
   "outputs": [
    {
     "data": {
      "text/plain": [
       "array([[-1.48683507, -1.49326345, -1.54060622, ..., -2.05393608,\n",
       "        -2.10479493, -2.16396451],\n",
       "       [-1.48683507, -1.49326345, -1.54060622, ..., -2.05393608,\n",
       "        -2.10479493, -2.16396451],\n",
       "       [-1.54039313, -1.54794027, -1.55065724, ..., -2.16531411,\n",
       "        -2.17060599, -2.20210864],\n",
       "       ...,\n",
       "       [ 0.98754377,  0.98752601,  0.97708432, ...,  0.36557061,\n",
       "         0.3486295 ,  0.34404794],\n",
       "       [ 1.00952815,  1.00947487,  1.00894213, ...,  0.56296828,\n",
       "         0.50072657,  0.50069106],\n",
       "       [ 1.03726611,  1.03724835,  1.03703525, ...,  0.6037406 ,\n",
       "         0.57797378,  0.56296828]])"
      ]
     },
     "execution_count": 322,
     "metadata": {},
     "output_type": "execute_result"
    }
   ],
   "source": [
    "np_bid_price_zscore"
   ]
  },
  {
   "cell_type": "code",
   "execution_count": 256,
   "id": "b47852b7",
   "metadata": {},
   "outputs": [],
   "source": [
    "np_bid_amount_zscore = ( np_bids_no_time[:,:,1] - np_bids_no_time[:,:,1].mean() ) / np_bids_no_time[:,:,1].std()"
   ]
  },
  {
   "cell_type": "code",
   "execution_count": 257,
   "id": "3ce2f7d7",
   "metadata": {},
   "outputs": [
    {
     "data": {
      "text/plain": [
       "array([[-0.40831195, -0.40809507, -0.33374665, ..., -0.39746698,\n",
       "        -0.40079081, -0.40807605],\n",
       "       [-0.40831195, -0.40809507, -0.33374665, ..., -0.39746698,\n",
       "        -0.40079081, -0.40807605],\n",
       "       [-0.01920141, -0.34946042, -0.33370162, ...,  1.07644202,\n",
       "        -0.40828947,  0.33453124],\n",
       "       ...,\n",
       "       [-0.08433337, -0.14919659, -0.33184849, ..., -0.30616976,\n",
       "        -0.40807605, -0.4085055 ],\n",
       "       [-0.09431552, -0.34125429, -0.33013875, ..., -0.39593513,\n",
       "        -0.37197335, -0.398622  ],\n",
       "       [-0.09077866, -0.02549227, -0.14968151, ...,  0.63043404,\n",
       "         2.58404525, -0.39593513]])"
      ]
     },
     "execution_count": 257,
     "metadata": {},
     "output_type": "execute_result"
    }
   ],
   "source": [
    "np_bid_amount_zscore"
   ]
  },
  {
   "cell_type": "code",
   "execution_count": 259,
   "id": "3f5088e0",
   "metadata": {},
   "outputs": [],
   "source": [
    "np_zscore_bids = np.stack((np_bid_price_zscore, np_bid_amount_zscore), axis=2)"
   ]
  },
  {
   "cell_type": "code",
   "execution_count": 260,
   "id": "1014f33f",
   "metadata": {},
   "outputs": [
    {
     "data": {
      "text/plain": [
       "array([[[-1.48683507, -0.40831195],\n",
       "        [-1.49326345, -0.40809507],\n",
       "        [-1.54060622, -0.33374665],\n",
       "        ...,\n",
       "        [-2.05393608, -0.39746698],\n",
       "        [-2.10479493, -0.40079081],\n",
       "        [-2.16396451, -0.40807605]],\n",
       "\n",
       "       [[-1.48683507, -0.40831195],\n",
       "        [-1.49326345, -0.40809507],\n",
       "        [-1.54060622, -0.33374665],\n",
       "        ...,\n",
       "        [-2.05393608, -0.39746698],\n",
       "        [-2.10479493, -0.40079081],\n",
       "        [-2.16396451, -0.40807605]],\n",
       "\n",
       "       [[-1.54039313, -0.01920141],\n",
       "        [-1.54794027, -0.34946042],\n",
       "        [-1.55065724, -0.33370162],\n",
       "        ...,\n",
       "        [-2.16531411,  1.07644202],\n",
       "        [-2.17060599, -0.40828947],\n",
       "        [-2.20210864,  0.33453124]],\n",
       "\n",
       "       ...,\n",
       "\n",
       "       [[ 0.98754377, -0.08433337],\n",
       "        [ 0.98752601, -0.14919659],\n",
       "        [ 0.97708432, -0.33184849],\n",
       "        ...,\n",
       "        [ 0.36557061, -0.30616976],\n",
       "        [ 0.3486295 , -0.40807605],\n",
       "        [ 0.34404794, -0.4085055 ]],\n",
       "\n",
       "       [[ 1.00952815, -0.09431552],\n",
       "        [ 1.00947487, -0.34125429],\n",
       "        [ 1.00894213, -0.33013875],\n",
       "        ...,\n",
       "        [ 0.56296828, -0.39593513],\n",
       "        [ 0.50072657, -0.37197335],\n",
       "        [ 0.50069106, -0.398622  ]],\n",
       "\n",
       "       [[ 1.03726611, -0.09077866],\n",
       "        [ 1.03724835, -0.02549227],\n",
       "        [ 1.03703525, -0.14968151],\n",
       "        ...,\n",
       "        [ 0.6037406 ,  0.63043404],\n",
       "        [ 0.57797378,  2.58404525],\n",
       "        [ 0.56296828, -0.39593513]]])"
      ]
     },
     "execution_count": 260,
     "metadata": {},
     "output_type": "execute_result"
    }
   ],
   "source": [
    "np_zscore_bids"
   ]
  },
  {
   "cell_type": "code",
   "execution_count": null,
   "id": "9b7e16f0",
   "metadata": {},
   "outputs": [],
   "source": []
  }
 ],
 "metadata": {
  "kernelspec": {
   "name": "python385jvsc74a57bd0be05f975fcdf156087574fce0309954c741e9f26f1587577ebfd35fe0f7c7bd8",
   "display_name": "Python 3.8.5 64-bit ('env')"
  },
  "language_info": {
   "codemirror_mode": {
    "name": "ipython",
    "version": 3
   },
   "file_extension": ".py",
   "mimetype": "text/x-python",
   "name": "python",
   "nbconvert_exporter": "python",
   "pygments_lexer": "ipython3",
   "version": "3.8.5"
  }
 },
 "nbformat": 4,
 "nbformat_minor": 5
}